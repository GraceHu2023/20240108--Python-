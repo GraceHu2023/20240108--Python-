{
 "cells": [
  {
   "cell_type": "code",
   "execution_count": null,
   "metadata": {},
   "outputs": [],
   "source": []
  },
  {
   "cell_type": "code",
   "execution_count": 1,
   "metadata": {},
   "outputs": [
    {
     "name": "stdout",
     "output_type": "stream",
     "text": [
      "下載成功\n",
      "[{'date': '2024-1-24 15:43:7', 'address': 'chicken_KFC', 'temperature': 28.44883, 'light': 64063.0}, {'date': '2024-1-24 15:43:52', 'address': 'chicken_KFC', 'temperature': 28.44883, 'light': 63759.0}, {'date': '2024-1-24 15:43:58', 'address': 'chicken_KFC', 'temperature': 28.44883, 'light': 63855.0}, {'date': '2024-01-24 16:11:00', 'address': 'KFC', 'temperature': 18.0, 'light': 1321.2}, {'date': '2024-1-24 16:14:2', 'address': 'chicken_KFC', 'temperature': 25.17182, 'light': 63919.0}]\n"
     ]
    }
   ],
   "source": [
    "import requests\n",
    "\n",
    "url = 'https://open-api-q2kw.onrender.com/pico_w/?count=5'\n",
    "\n",
    "r = requests.get(url=url)\n",
    "\n",
    "if r.status_code == 200:\n",
    "    print(\"下載成功\")\n",
    "    data = r.json()\n",
    "\n",
    "print(data)"
   ]
  }
 ],
 "metadata": {
  "kernelspec": {
   "display_name": ".venv",
   "language": "python",
   "name": "python3"
  },
  "language_info": {
   "codemirror_mode": {
    "name": "ipython",
    "version": 3
   },
   "file_extension": ".py",
   "mimetype": "text/x-python",
   "name": "python",
   "nbconvert_exporter": "python",
   "pygments_lexer": "ipython3",
   "version": "3.10.8"
  }
 },
 "nbformat": 4,
 "nbformat_minor": 2
}
