{
 "cells": [
  {
   "cell_type": "code",
   "execution_count": null,
   "metadata": {},
   "outputs": [],
   "source": []
  },
  {
   "cell_type": "code",
   "execution_count": 1,
   "metadata": {},
   "outputs": [
    {
     "name": "stdout",
     "output_type": "stream",
     "text": [
      "下載成功\n",
      "[{'date': '2024-1-24 15:43:7', 'address': 'chicken_KFC', 'temperature': 28.44883, 'light': 64063.0}, {'date': '2024-1-24 15:43:52', 'address': 'chicken_KFC', 'temperature': 28.44883, 'light': 63759.0}, {'date': '2024-1-24 15:43:58', 'address': 'chicken_KFC', 'temperature': 28.44883, 'light': 63855.0}, {'date': '2024-01-24 16:11:00', 'address': 'KFC', 'temperature': 18.0, 'light': 1321.2}, {'date': '2024-1-24 16:14:2', 'address': 'chicken_KFC', 'temperature': 25.17182, 'light': 63919.0}]\n"
     ]
    }
   ],
   "source": [
    "import requests\n",
    "\n",
    "url = 'https://open-api-q2kw.onrender.com/pico_w/?count=5'\n",
    "\n",
    "r = requests.get(url=url)\n",
    "\n",
    "if r.status_code == 200:\n",
    "    print(\"下載成功\")\n",
    "    data = r.json()\n",
    "\n",
    "print(data)"
   ]
  },
  {
   "cell_type": "code",
   "execution_count": 2,
   "metadata": {},
   "outputs": [
    {
     "data": {
      "text/html": [
       "<div>\n",
       "<style scoped>\n",
       "    .dataframe tbody tr th:only-of-type {\n",
       "        vertical-align: middle;\n",
       "    }\n",
       "\n",
       "    .dataframe tbody tr th {\n",
       "        vertical-align: top;\n",
       "    }\n",
       "\n",
       "    .dataframe thead th {\n",
       "        text-align: right;\n",
       "    }\n",
       "</style>\n",
       "<table border=\"1\" class=\"dataframe\">\n",
       "  <thead>\n",
       "    <tr style=\"text-align: right;\">\n",
       "      <th></th>\n",
       "      <th>date</th>\n",
       "      <th>address</th>\n",
       "      <th>temperature</th>\n",
       "      <th>light</th>\n",
       "    </tr>\n",
       "  </thead>\n",
       "  <tbody>\n",
       "    <tr>\n",
       "      <th>0</th>\n",
       "      <td>2024-1-24 15:43:7</td>\n",
       "      <td>chicken_KFC</td>\n",
       "      <td>28.44883</td>\n",
       "      <td>64063.0</td>\n",
       "    </tr>\n",
       "    <tr>\n",
       "      <th>1</th>\n",
       "      <td>2024-1-24 15:43:52</td>\n",
       "      <td>chicken_KFC</td>\n",
       "      <td>28.44883</td>\n",
       "      <td>63759.0</td>\n",
       "    </tr>\n",
       "    <tr>\n",
       "      <th>2</th>\n",
       "      <td>2024-1-24 15:43:58</td>\n",
       "      <td>chicken_KFC</td>\n",
       "      <td>28.44883</td>\n",
       "      <td>63855.0</td>\n",
       "    </tr>\n",
       "    <tr>\n",
       "      <th>3</th>\n",
       "      <td>2024-01-24 16:11:00</td>\n",
       "      <td>KFC</td>\n",
       "      <td>18.00000</td>\n",
       "      <td>1321.2</td>\n",
       "    </tr>\n",
       "    <tr>\n",
       "      <th>4</th>\n",
       "      <td>2024-1-24 16:14:2</td>\n",
       "      <td>chicken_KFC</td>\n",
       "      <td>25.17182</td>\n",
       "      <td>63919.0</td>\n",
       "    </tr>\n",
       "  </tbody>\n",
       "</table>\n",
       "</div>"
      ],
      "text/plain": [
       "                  date      address  temperature    light\n",
       "0    2024-1-24 15:43:7  chicken_KFC     28.44883  64063.0\n",
       "1   2024-1-24 15:43:52  chicken_KFC     28.44883  63759.0\n",
       "2   2024-1-24 15:43:58  chicken_KFC     28.44883  63855.0\n",
       "3  2024-01-24 16:11:00          KFC     18.00000   1321.2\n",
       "4    2024-1-24 16:14:2  chicken_KFC     25.17182  63919.0"
      ]
     },
     "execution_count": 2,
     "metadata": {},
     "output_type": "execute_result"
    }
   ],
   "source": [
    "import pandas as pd\n",
    "\n",
    "dataFrame = pd.DataFrame(data)\n",
    "dataFrame"
   ]
  }
 ],
 "metadata": {
  "kernelspec": {
   "display_name": ".venv",
   "language": "python",
   "name": "python3"
  },
  "language_info": {
   "codemirror_mode": {
    "name": "ipython",
    "version": 3
   },
   "file_extension": ".py",
   "mimetype": "text/x-python",
   "name": "python",
   "nbconvert_exporter": "python",
   "pygments_lexer": "ipython3",
   "version": "3.10.8"
  }
 },
 "nbformat": 4,
 "nbformat_minor": 2
}
