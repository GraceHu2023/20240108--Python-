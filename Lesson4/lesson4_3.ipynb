{
 "cells": [
  {
   "cell_type": "code",
   "execution_count": null,
   "metadata": {},
   "outputs": [],
   "source": [
    "n = 0\n",
    "n += 1\n",
    "n += 2\n",
    "n += 3\n",
    "n += 4\n",
    "n += 5\n",
    "n += 6\n",
    "n += 7\n",
    "n += 8\n",
    "n += 9\n",
    "n += 10\n",
    "n"
   ]
  },
  {
   "cell_type": "code",
   "execution_count": null,
   "metadata": {},
   "outputs": [],
   "source": [
    "n = 0\n",
    "for i in range(50,101):    \n",
    "    n += i\n",
    "\n",
    "print(n)"
   ]
  }
 ],
 "metadata": {
  "language_info": {
   "name": "python"
  }
 },
 "nbformat": 4,
 "nbformat_minor": 2
}
