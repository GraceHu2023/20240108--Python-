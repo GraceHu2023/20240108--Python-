{
 "cells": [
  {
   "cell_type": "code",
   "execution_count": 1,
   "metadata": {},
   "outputs": [
    {
     "name": "stdout",
     "output_type": "stream",
     "text": [
      "可以投票\n",
      "成年人\n"
     ]
    }
   ],
   "source": [
    "5 > 3\n",
    "True\n",
    "5 == 5\n",
    "True\n",
    "5 != 5\n",
    "False\n",
    "age = int(input(\"請輸入age:\"))\n",
    "if age >= 18:\n",
    "    print(\"可以投票\")\n",
    "    print(\"成年人\")\n",
    "else:\n",
    "    print(\"不可以投票\")\n",
    "    print(\"未成年\")"
   ]
  },
  {
   "cell_type": "code",
   "execution_count": 2,
   "metadata": {},
   "outputs": [
    {
     "name": "stdout",
     "output_type": "stream",
     "text": [
      "210\n"
     ]
    }
   ],
   "source": [
    "#學生總分為300\n",
    "#有些學生可以加分5%\n",
    "\n",
    "\n",
    "scores = int(input(\"請輸入學生分數(最高300):\"))\n",
    "is_add = input(\"學生是否符合加分條件?(y,n):\")\n",
    "if(is_add==\"y\"):\n",
    "    scores *= 1.05\n",
    "\n",
    "print(round(scores))"
   ]
  },
  {
   "cell_type": "code",
   "execution_count": 5,
   "metadata": {},
   "outputs": [
    {
     "name": "stdout",
     "output_type": "stream",
     "text": [
      "320\n"
     ]
    }
   ],
   "source": [
    "#學生總分為300\n",
    "#有些學生可以加分5%\n",
    "#如果加分超過300,就以300分為準\n",
    "\n",
    "scores = int(input(\"請輸入學生分數(最高300):\"))\n",
    "is_add = input(\"學生是否符合加分條件?(y,n):\")\n",
    "#巢狀判斷\n",
    "if(is_add==\"y\"):\n",
    "    scores *= 1.05\n",
    "    if scores > 300:\n",
    "        scores = 300\n",
    "\n",
    "print(round(scores))"
   ]
  },
  {
   "cell_type": "code",
   "execution_count": 6,
   "metadata": {},
   "outputs": [
    {
     "name": "stdout",
     "output_type": "stream",
     "text": [
      "輸入錯誤!\n"
     ]
    }
   ],
   "source": [
    "#學生總分為300\n",
    "#檢查必需300分以內\n",
    "#有些學生可以加分5%\n",
    "#如果加分超過300,就以300分為準\n",
    "\n",
    "scores = int(input(\"請輸入學生分數(最高300):\"))\n",
    "if scores <= 300:\n",
    "    is_add = input(\"學生是否符合加分條件?(y,n):\")\n",
    "    #巢狀判斷\n",
    "    if(is_add==\"y\"):\n",
    "        scores *= 1.05\n",
    "        if scores > 300:\n",
    "            scores = 300\n",
    "    print(round(scores))\n",
    "else:\n",
    "    print(\"輸入錯誤!\")"
   ]
  }
 ],
 "metadata": {
  "kernelspec": {
   "display_name": "Python 3",
   "language": "python",
   "name": "python3"
  },
  "language_info": {
   "codemirror_mode": {
    "name": "ipython",
    "version": 3
   },
   "file_extension": ".py",
   "mimetype": "text/x-python",
   "name": "python",
   "nbconvert_exporter": "python",
   "pygments_lexer": "ipython3",
   "version": "3.10.8"
  }
 },
 "nbformat": 4,
 "nbformat_minor": 2
}
