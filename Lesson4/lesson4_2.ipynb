{
 "cells": [
  {
   "cell_type": "code",
   "execution_count": 9,
   "metadata": {},
   "outputs": [
    {
     "name": "stdout",
     "output_type": "stream",
     "text": [
      "發生錯誤\n"
     ]
    }
   ],
   "source": [
    "try:\n",
    "    2 / 0\n",
    "    print(\"Hello! World!\")\n",
    "except:\n",
    "    print(\"發生錯誤\")\n",
    "else:\n",
    "    print(\"沒有發生錯誤\")"
   ]
  },
  {
   "cell_type": "code",
   "execution_count": 10,
   "metadata": {},
   "outputs": [
    {
     "name": "stdout",
     "output_type": "stream",
     "text": [
      "Hello! World!\n",
      "沒有發生錯誤\n",
      "程式結束\n"
     ]
    }
   ],
   "source": [
    "try:\n",
    "    #2 / 0\n",
    "    print(\"Hello! World!\")\n",
    "except:\n",
    "    print(\"發生錯誤\")\n",
    "else:\n",
    "    print(\"沒有發生錯誤\")\n",
    "print(\"程式結束\")"
   ]
  },
  {
   "cell_type": "code",
   "execution_count": 8,
   "metadata": {},
   "outputs": [
    {
     "name": "stdout",
     "output_type": "stream",
     "text": [
      "錯誤發生\n"
     ]
    }
   ],
   "source": [
    "try:\n",
    "    raise RuntimeError(\"發生錯誤\")\n",
    "    \n",
    "except:\n",
    "    print(\"錯誤發生\")"
   ]
  },
  {
   "cell_type": "code",
   "execution_count": 25,
   "metadata": {},
   "outputs": [
    {
     "name": "stdout",
     "output_type": "stream",
     "text": [
      "您的BMI: {bmi:.3f}\n",
      "您的BMI {interpretation}\n"
     ]
    }
   ],
   "source": [
    "def calculate_bmi(weight, height):\n",
    "    \"\"\"\n",
    "    計算BMI（Body Mass Index）\n",
    "\n",
    "    參數:\n",
    "    weight (float): 體重（公斤）\n",
    "    height (float): 身高（公分）\n",
    "\n",
    "    返回值:\n",
    "    float: BMI值\n",
    "    \"\"\"\n",
    "    bmi = weight / (height/100) ** 2\n",
    "    return bmi\n",
    "\n",
    "def interpret_bmi(bmi):\n",
    "    \"\"\"\n",
    "    解釋BMI值\n",
    "\n",
    "    參數:\n",
    "    bmi (float): BMI值\n",
    "\n",
    "    返回值:\n",
    "    str: BMI值的解釋\n",
    "    \"\"\"\n",
    "    if bmi < 18.5:\n",
    "        return \"體重過輕\"\n",
    "    elif 18.5 <= bmi < 24:\n",
    "        return \"正常範圍\"\n",
    "    elif 24 <= bmi < 27:\n",
    "        return \"過重\"\n",
    "    elif 27 <= bmi < 30:\n",
    "        return \"輕度肥胖\"\n",
    "    elif 30 <= bmi < 35:\n",
    "        return \"中度肥胖\"\n",
    "    else :\n",
    "        return \"重度肥胖\"\n",
    "\n",
    "# 使用者輸入體重和身高\n",
    "weight = float(input(\"請輸入體重（公斤）: \"))\n",
    "height = float(input(\"請輸入身高（公分）: \"))\n",
    "\n",
    "# 計算BMI值\n",
    "bmi = calculate_bmi(weight, height)\n",
    "\n",
    "# 解釋BMI值\n",
    "interpretation = interpret_bmi(bmi)\n",
    "\n",
    "# 顯示結果\n",
    "print(\"您的BMI:\" BMI:.3f\")\n",
    "print(\"您的BMI {interpretation}\")"
   ]
  }
 ],
 "metadata": {
  "kernelspec": {
   "display_name": "Python 3",
   "language": "python",
   "name": "python3"
  },
  "language_info": {
   "codemirror_mode": {
    "name": "ipython",
    "version": 3
   },
   "file_extension": ".py",
   "mimetype": "text/x-python",
   "name": "python",
   "nbconvert_exporter": "python",
   "pygments_lexer": "ipython3",
   "version": "3.10.8"
  }
 },
 "nbformat": 4,
 "nbformat_minor": 2
}
