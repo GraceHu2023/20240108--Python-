{
 "cells": [
  {
   "cell_type": "code",
   "execution_count": 9,
   "metadata": {},
   "outputs": [
    {
     "name": "stdout",
     "output_type": "stream",
     "text": [
      "發生錯誤\n"
     ]
    }
   ],
   "source": [
    "try:\n",
    "    2 / 0\n",
    "    print(\"Hello! World!\")\n",
    "except:\n",
    "    print(\"發生錯誤\")\n",
    "else:\n",
    "    print(\"沒有發生錯誤\")"
   ]
  },
  {
   "cell_type": "code",
   "execution_count": 10,
   "metadata": {},
   "outputs": [
    {
     "name": "stdout",
     "output_type": "stream",
     "text": [
      "Hello! World!\n",
      "沒有發生錯誤\n",
      "程式結束\n"
     ]
    }
   ],
   "source": [
    "try:\n",
    "    #2 / 0\n",
    "    print(\"Hello! World!\")\n",
    "except:\n",
    "    print(\"發生錯誤\")\n",
    "else:\n",
    "    print(\"沒有發生錯誤\")\n",
    "print(\"程式結束\")"
   ]
  },
  {
   "cell_type": "code",
   "execution_count": 8,
   "metadata": {},
   "outputs": [
    {
     "name": "stdout",
     "output_type": "stream",
     "text": [
      "錯誤發生\n"
     ]
    }
   ],
   "source": [
    "try:\n",
    "    raise RuntimeError(\"發生錯誤\")\n",
    "    \n",
    "except:\n",
    "    print(\"錯誤發生\")"
   ]
  },
  {
   "cell_type": "code",
   "execution_count": 12,
   "metadata": {},
   "outputs": [
    {
     "name": "stdout",
     "output_type": "stream",
     "text": [
      "您的BMI值為: 21.51\n",
      "解釋: 正常範圍\n"
     ]
    }
   ],
   "source": [
    "def calculate_bmi(weight, height):\n",
    "    \"\"\"\n",
    "    計算BMI（Body Mass Index）\n",
    "\n",
    "    參數:\n",
    "    weight (float): 體重（公斤）\n",
    "    height (float): 身高（米）\n",
    "\n",
    "    返回值:\n",
    "    float: BMI值\n",
    "    \"\"\"\n",
    "    bmi = weight / (height ** 2)\n",
    "    return bmi\n",
    "\n",
    "def interpret_bmi(bmi):\n",
    "    \"\"\"\n",
    "    解釋BMI值\n",
    "\n",
    "    參數:\n",
    "    bmi (float): BMI值\n",
    "\n",
    "    返回值:\n",
    "    str: BMI值的解釋\n",
    "    \"\"\"\n",
    "    if bmi < 18.5:\n",
    "        return \"體重過輕\"\n",
    "    elif 18.5 <= bmi < 24:\n",
    "        return \"正常範圍\"\n",
    "    elif 24 <= bmi < 28:\n",
    "        return \"過重\"\n",
    "    elif 28 <= bmi < 35:\n",
    "        return \"輕度肥胖\"\n",
    "    else:\n",
    "        return \"重度肥胖\"\n",
    "\n",
    "# 使用者輸入體重和身高\n",
    "weight = float(input(\"請輸入體重（公斤）: \"))\n",
    "height = float(input(\"請輸入身高（米）: \"))\n",
    "\n",
    "# 計算BMI值\n",
    "bmi = calculate_bmi(weight, height)\n",
    "\n",
    "# 解釋BMI值\n",
    "interpretation = interpret_bmi(bmi)\n",
    "\n",
    "# 顯示結果\n",
    "print(f\"您的BMI值為: {bmi:.2f}\")\n",
    "print(f\"解釋: {interpretation}\")"
   ]
  },
  {
   "cell_type": "code",
   "execution_count": 13,
   "metadata": {},
   "outputs": [
    {
     "ename": "ModuleNotFoundError",
     "evalue": "No module named 'pyinputplus'",
     "output_type": "error",
     "traceback": [
      "\u001b[1;31m---------------------------------------------------------------------------\u001b[0m",
      "\u001b[1;31mModuleNotFoundError\u001b[0m                       Traceback (most recent call last)",
      "Cell \u001b[1;32mIn[13], line 1\u001b[0m\n\u001b[1;32m----> 1\u001b[0m \u001b[38;5;28;01mimport\u001b[39;00m \u001b[38;5;21;01mpyinputplus\u001b[39;00m \u001b[38;5;28;01mas\u001b[39;00m \u001b[38;5;21;01mpyip\u001b[39;00m\n\u001b[0;32m      3\u001b[0m height_cm \u001b[38;5;241m=\u001b[39m pyip\u001b[38;5;241m.\u001b[39minputInt(\u001b[38;5;124m\"\u001b[39m\u001b[38;5;124m請輸入身高cm:\u001b[39m\u001b[38;5;124m\"\u001b[39m)\n\u001b[0;32m      4\u001b[0m \u001b[38;5;28mprint\u001b[39m(height_cm)\n",
      "\u001b[1;31mModuleNotFoundError\u001b[0m: No module named 'pyinputplus'"
     ]
    }
   ],
   "source": [
    "import pyinputplus as pyip\n",
    "\n",
    "height_cm = pyip.inputInt(\"請輸入身高cm:\")\n",
    "print(height_cm)\n",
    "weight_kg= pyip.inputInt(\"請輸入體重kg:\")\n",
    "print(weight_kg)\n",
    "\n",
    "\n",
    "height_m = height_cm / 100 \n",
    "bmi = weight_kg / (height_m ** 2)\n",
    "\n",
    "if bmi < 18.5:\n",
    "  message = \"太輕\"\n",
    "elif 18.5 <= bmi < 25:\n",
    "    message = \"正常\"\n",
    "elif 25 <= bmi < 30:\n",
    "    message = \"過重\" \n",
    "else:\n",
    "    message = \"肥胖\"\n",
    "    \n",
    "\n",
    "print(bmi,message) "
   ]
  }
 ],
 "metadata": {
  "kernelspec": {
   "display_name": "Python 3",
   "language": "python",
   "name": "python3"
  },
  "language_info": {
   "codemirror_mode": {
    "name": "ipython",
    "version": 3
   },
   "file_extension": ".py",
   "mimetype": "text/x-python",
   "name": "python",
   "nbconvert_exporter": "python",
   "pygments_lexer": "ipython3",
   "version": "3.10.8"
  }
 },
 "nbformat": 4,
 "nbformat_minor": 2
}
